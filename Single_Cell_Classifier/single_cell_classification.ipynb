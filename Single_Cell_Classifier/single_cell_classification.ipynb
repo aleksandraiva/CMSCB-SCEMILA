{
 "cells": [
  {
   "cell_type": "code",
   "execution_count": 5,
   "metadata": {},
   "outputs": [],
   "source": [
    "# all neccessary imports\n",
    "import torch\n",
    "import os\n",
    "from PIL import Image\n",
    "import label_converter # make sure the label_converter.py is in the folder with this notebook\n",
    "import numpy as np\n",
    "import glob\n",
    "from torchvision import transforms\n",
    "import torch.nn as nn"
   ]
  },
  {
   "cell_type": "code",
   "execution_count": 6,
   "metadata": {},
   "outputs": [],
   "source": [
    "# define paths\n",
    "PATH_TO_IMAGES = '/mnt/volume/shared/data'\n",
    "#PATH_TO_IMAGES = '../../artificialdata/experiment_3/data'\n",
    "PATH_TO_MODEL = os.path.join(os.getcwd(), \"class_conversion-csv/model.pt\")\n",
    "# load model and print architecture\n",
    "model = torch.load(PATH_TO_MODEL, map_location=torch.device('cpu'))\n",
    "#model.state_dict"
   ]
  },
  {
   "cell_type": "code",
   "execution_count": 7,
   "metadata": {},
   "outputs": [],
   "source": [
    "def create_dataset(root_dirs):\n",
    "    # Create dataset\n",
    "    data = []\n",
    "    for sgl_dir in root_dirs:\n",
    "        for file_sgl in os.listdir(sgl_dir):\n",
    "\n",
    "            if not '.tif' in file_sgl:\n",
    "                        continue\n",
    "\n",
    "            data.append(os.path.join(sgl_dir, file_sgl))\n",
    "    \n",
    "    # Convert the list to a NumPy array\n",
    "    data = np.array(data)\n",
    "\n",
    "    # Extract numerical part for sorting\n",
    "    numeric_part = np.array([int(name.split('image_')[1].split('.tif')[0]) for name in data])\n",
    "\n",
    "    # Get the indices that would sort the numeric part\n",
    "    sorted_indices = np.argsort(numeric_part)\n",
    "\n",
    "    # Use the sorted indices to rearrange the file names array\n",
    "    sorted_images = data[sorted_indices]\n",
    "\n",
    "    return sorted_images\n",
    "\n",
    "def get_image(idx, data):\n",
    "        '''returns specific item from this dataset'''\n",
    "\n",
    "        # load image, remove alpha channel, transform\n",
    "        image = Image.open(data[idx])\n",
    "        image_arr = np.asarray(image)[:,:,:3]\n",
    "        image = Image.fromarray(image_arr)\n",
    "\n",
    "        return torch.tensor(image_arr)\n",
    "\n",
    "def save_single_cell_probabilities(data, folder_patient):\n",
    "    array_list = []\n",
    "    #print(\"Target \\t Prediction\")\n",
    "    for idx in range(len(data)):\n",
    "        input = get_image(idx, data)\n",
    "        input = input.permute(2, 0, 1).unsqueeze(0)\n",
    "        \n",
    "        # Convert input to float\n",
    "        input = input.float()\n",
    "        input = input / 255.\n",
    "\n",
    "        # Normalize the input\n",
    "        normalize = transforms.Normalize(mean=[0.5, 0.5, 0.5], std=[0.5, 0.5, 0.5])\n",
    "        input = normalize(input)\n",
    "        \n",
    "        model.eval()\n",
    "        pred = model(input)\n",
    "        softmax = nn.Softmax(dim=1)\n",
    "        pred_probability = softmax(pred)\n",
    "\n",
    "        # Save probabilities in a file\n",
    "        pred_vect = pred_probability.detach().numpy().flatten()\n",
    "        array_list.append([pred_vect])\n",
    "        \n",
    "    #Concatenate all features for one artificial patient    \n",
    "    single_cell_probs = np.concatenate(array_list,axis=0)\n",
    "    output_npy_file = folder_patient + '/single_cell_probabilities.npy'\n",
    "    # Save the array to the .npy file\n",
    "    np.save(output_npy_file, single_cell_probs)"
   ]
  },
  {
   "cell_type": "code",
   "execution_count": 8,
   "metadata": {},
   "outputs": [
    {
     "name": "stdout",
     "output_type": "stream",
     "text": [
      "/mnt/volume/shared/data/control\n",
      "Processing patient folder with .tif files: /mnt/volume/shared/data/control/AEC\n"
     ]
    },
    {
     "ename": "PermissionError",
     "evalue": "[Errno 13] Permission denied: '/mnt/volume/shared/data/control/AEC/single_cell_probabilities.npy'",
     "output_type": "error",
     "traceback": [
      "\u001b[0;31m---------------------------------------------------------------------------\u001b[0m",
      "\u001b[0;31mPermissionError\u001b[0m                           Traceback (most recent call last)",
      "Cell \u001b[0;32mIn[8], line 15\u001b[0m\n\u001b[1;32m     13\u001b[0m     \u001b[38;5;28mprint\u001b[39m(\u001b[38;5;124m\"\u001b[39m\u001b[38;5;124mProcessing patient folder with .tif files:\u001b[39m\u001b[38;5;124m\"\u001b[39m, folder_patient)\n\u001b[1;32m     14\u001b[0m     data \u001b[38;5;241m=\u001b[39m create_dataset([folder_patient])\n\u001b[0;32m---> 15\u001b[0m     \u001b[43msave_single_cell_probabilities\u001b[49m\u001b[43m(\u001b[49m\u001b[43mdata\u001b[49m\u001b[43m,\u001b[49m\u001b[43m \u001b[49m\u001b[43mfolder_patient\u001b[49m\u001b[43m)\u001b[49m\n\u001b[1;32m     16\u001b[0m \u001b[38;5;28;01melse\u001b[39;00m:\n\u001b[1;32m     17\u001b[0m     \u001b[38;5;28mprint\u001b[39m(\u001b[38;5;124m\"\u001b[39m\u001b[38;5;124mSkipping patient folder without .tif files:\u001b[39m\u001b[38;5;124m\"\u001b[39m, folder_patient)\n",
      "Cell \u001b[0;32mIn[7], line 64\u001b[0m, in \u001b[0;36msave_single_cell_probabilities\u001b[0;34m(data, folder_patient)\u001b[0m\n\u001b[1;32m     62\u001b[0m output_npy_file \u001b[38;5;241m=\u001b[39m folder_patient \u001b[38;5;241m+\u001b[39m \u001b[38;5;124m'\u001b[39m\u001b[38;5;124m/single_cell_probabilities.npy\u001b[39m\u001b[38;5;124m'\u001b[39m\n\u001b[1;32m     63\u001b[0m \u001b[38;5;66;03m# Save the array to the .npy file\u001b[39;00m\n\u001b[0;32m---> 64\u001b[0m \u001b[43mnp\u001b[49m\u001b[38;5;241;43m.\u001b[39;49m\u001b[43msave\u001b[49m\u001b[43m(\u001b[49m\u001b[43moutput_npy_file\u001b[49m\u001b[43m,\u001b[49m\u001b[43m \u001b[49m\u001b[43msingle_cell_probs\u001b[49m\u001b[43m)\u001b[49m\n",
      "File \u001b[0;32m<__array_function__ internals>:200\u001b[0m, in \u001b[0;36msave\u001b[0;34m(*args, **kwargs)\u001b[0m\n",
      "File \u001b[0;32m/mnt/volume/shared/anaconda3/envs/py310/lib/python3.10/site-packages/numpy/lib/npyio.py:518\u001b[0m, in \u001b[0;36msave\u001b[0;34m(file, arr, allow_pickle, fix_imports)\u001b[0m\n\u001b[1;32m    516\u001b[0m     \u001b[38;5;28;01mif\u001b[39;00m \u001b[38;5;129;01mnot\u001b[39;00m file\u001b[38;5;241m.\u001b[39mendswith(\u001b[38;5;124m'\u001b[39m\u001b[38;5;124m.npy\u001b[39m\u001b[38;5;124m'\u001b[39m):\n\u001b[1;32m    517\u001b[0m         file \u001b[38;5;241m=\u001b[39m file \u001b[38;5;241m+\u001b[39m \u001b[38;5;124m'\u001b[39m\u001b[38;5;124m.npy\u001b[39m\u001b[38;5;124m'\u001b[39m\n\u001b[0;32m--> 518\u001b[0m     file_ctx \u001b[38;5;241m=\u001b[39m \u001b[38;5;28;43mopen\u001b[39;49m\u001b[43m(\u001b[49m\u001b[43mfile\u001b[49m\u001b[43m,\u001b[49m\u001b[43m \u001b[49m\u001b[38;5;124;43m\"\u001b[39;49m\u001b[38;5;124;43mwb\u001b[39;49m\u001b[38;5;124;43m\"\u001b[39;49m\u001b[43m)\u001b[49m\n\u001b[1;32m    520\u001b[0m \u001b[38;5;28;01mwith\u001b[39;00m file_ctx \u001b[38;5;28;01mas\u001b[39;00m fid:\n\u001b[1;32m    521\u001b[0m     arr \u001b[38;5;241m=\u001b[39m np\u001b[38;5;241m.\u001b[39masanyarray(arr)\n",
      "\u001b[0;31mPermissionError\u001b[0m: [Errno 13] Permission denied: '/mnt/volume/shared/data/control/AEC/single_cell_probabilities.npy'"
     ]
    }
   ],
   "source": [
    "# Save class probabilities for each patient\n",
    "for folder_class in os.listdir(PATH_TO_IMAGES):\n",
    "    folder_class = os.path.join(PATH_TO_IMAGES, folder_class)\n",
    "    \n",
    "    if os.path.isdir(folder_class):\n",
    "       print(folder_class)\n",
    "       for folder_patient in os.listdir(folder_class):\n",
    "            folder_patient = os.path.join(folder_class, folder_patient)\n",
    "            if os.path.isdir(folder_patient):\n",
    "                # Check if there are .tif files in the patient folder\n",
    "                tif_files = [file for file in os.listdir(folder_patient) if file.endswith(\".tif\")]\n",
    "                if tif_files:\n",
    "                    print(\"Processing patient folder with .tif files:\", folder_patient)\n",
    "                    data = create_dataset([folder_patient])\n",
    "                    save_single_cell_probabilities(data, folder_patient)\n",
    "                else:\n",
    "                    print(\"Skipping patient folder without .tif files:\", folder_patient)"
   ]
  }
 ],
 "metadata": {
  "kernelspec": {
   "display_name": "Python 3 (ipykernel)",
   "language": "python",
   "name": "python3"
  },
  "language_info": {
   "codemirror_mode": {
    "name": "ipython",
    "version": 3
   },
   "file_extension": ".py",
   "mimetype": "text/x-python",
   "name": "python",
   "nbconvert_exporter": "python",
   "pygments_lexer": "ipython3",
   "version": "3.10.9"
  }
 },
 "nbformat": 4,
 "nbformat_minor": 4
}
