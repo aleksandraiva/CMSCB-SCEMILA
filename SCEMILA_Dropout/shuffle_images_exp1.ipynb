{
 "cells": [
  {
   "cell_type": "code",
   "execution_count": 1,
   "metadata": {},
   "outputs": [],
   "source": [
    "import numpy as np\n",
    "import glob\n",
    "import os\n",
    "import random\n",
    "import re\n",
    "from collections import Counter\n",
    "import pandas as pd\n",
    "\n",
    "class_labels = [\"CBFB_MYH11\",\"control\",\"NPM1\",\"PML_RARA\",\"RUNX1_RUNX1T1\"]\n",
    "\n",
    "#Function to get list of image_paths in one folder\n",
    "def get_image_path_list(folder_path):\n",
    "    tif_files = glob.glob(f\"{folder_path}/*.tif\")\n",
    "    return tif_files\n",
    "\n",
    "\"\"\"\n",
    "shuffle list into n new lists:\n",
    "num_lists: number of new lists\n",
    "items_per_list: item per each new list\n",
    "\"\"\"\n",
    "def shuffle_into_lists(original_list, num_lists, items_per_list,seed=4):\n",
    "    # Shuffle the original list in-place\n",
    "    random.seed(seed)\n",
    "    random.shuffle(original_list)\n",
    "    total_items = len(original_list)\n",
    "    \n",
    "    # Check if the specified number of lists and items per list are valid\n",
    "    if num_lists * items_per_list > total_items:\n",
    "        raise ValueError(\"Invalid parameters: Not enough items in the original list.\")\n",
    "    \n",
    "    result_lists = [original_list[i:i+items_per_list] for i in range(0, num_lists*items_per_list, items_per_list)]\n",
    "    return result_lists\n",
    "\n",
    "#exracts the number of image in the file_path e.g. \"image_123.tif\"\n",
    "def extract_number_image(file_path):\n",
    "    # Use a regular expression to find the number after \"image_\" and before \".tif\"\n",
    "    match = re.search(r'image_(\\d+).tif', file_path)\n",
    "    return int(match.group(1))\n",
    "\n",
    "#get the  most common class label in a list of file_paths\n",
    "def get_most_common_class(file_paths):\n",
    "    class_labels = [re.search(datafile_path+r'/data/(\\w+)/', path).group(1) for path in file_paths]\n",
    "    class_counts = Counter(class_labels)\n",
    "    most_common_class = random.choice(class_counts.most_common())[0]\n",
    "    return most_common_class"
   ]
  },
  {
   "cell_type": "code",
   "execution_count": 2,
   "metadata": {},
   "outputs": [
    {
     "name": "stdout",
     "output_type": "stream",
     "text": [
      "../../smalldataset/data/CBFB_MYH11\n",
      "../../smalldataset/data/control\n",
      "../../smalldataset/data/NPM1\n",
      "../../smalldataset/data/output\n",
      "../../smalldataset/data/PML_RARA\n",
      "../../smalldataset/data/RUNX1_RUNX1T1\n",
      "Number of all images 11122\n"
     ]
    }
   ],
   "source": [
    "datafile_path=\"../../smalldataset\"\n",
    "parent_folder = datafile_path+\"/data\"\n",
    "image_path_list = []\n",
    "for folder_class in os.listdir(parent_folder):\n",
    "    folder_class = os.path.join(parent_folder, folder_class)\n",
    "    \n",
    "    if os.path.isdir(folder_class):\n",
    "       print(folder_class)\n",
    "       for folder_patient in os.listdir(folder_class):\n",
    "            folder_patient = os.path.join(folder_class, folder_patient)\n",
    "            if os.path.isdir(folder_patient):\n",
    "                #print(\"Found folder:\", folder_patient)\n",
    "                image_path_list+=get_image_path_list(folder_patient)\n",
    "print(f\"Number of all images {len(image_path_list)}\")                "
   ]
  },
  {
   "cell_type": "code",
   "execution_count": 3,
   "metadata": {},
   "outputs": [],
   "source": [
    "# Shuffle into n patients with n images\n",
    "n_patients=50\n",
    "n_images=10\n",
    "experiment_name = \"experiment_1\"\n",
    "\n",
    "\n",
    "shuffled_patients = shuffle_into_lists(image_path_list, n_patients, n_images,seed=4)"
   ]
  },
  {
   "cell_type": "code",
   "execution_count": 4,
   "metadata": {},
   "outputs": [
    {
     "name": "stdout",
     "output_type": "stream",
     "text": [
      "Save Patient 1 in class NPM1\n",
      "Save Patient 2 in class control\n",
      "Save Patient 3 in class control\n",
      "Save Patient 4 in class PML_RARA\n",
      "Save Patient 5 in class PML_RARA\n",
      "Save Patient 6 in class NPM1\n",
      "Save Patient 7 in class control\n",
      "Save Patient 8 in class control\n",
      "Save Patient 9 in class PML_RARA\n",
      "Save Patient 10 in class NPM1\n",
      "Save Patient 11 in class NPM1\n",
      "Save Patient 12 in class control\n",
      "Save Patient 13 in class CBFB_MYH11\n",
      "Save Patient 14 in class control\n",
      "Save Patient 15 in class PML_RARA\n",
      "Save Patient 16 in class PML_RARA\n",
      "Save Patient 17 in class NPM1\n",
      "Save Patient 18 in class PML_RARA\n",
      "Save Patient 19 in class CBFB_MYH11\n",
      "Save Patient 20 in class CBFB_MYH11\n",
      "Save Patient 21 in class PML_RARA\n",
      "Save Patient 22 in class NPM1\n",
      "Save Patient 23 in class CBFB_MYH11\n",
      "Save Patient 24 in class CBFB_MYH11\n",
      "Save Patient 25 in class NPM1\n",
      "Save Patient 26 in class CBFB_MYH11\n",
      "Save Patient 27 in class PML_RARA\n",
      "Save Patient 28 in class CBFB_MYH11\n",
      "Save Patient 29 in class RUNX1_RUNX1T1\n",
      "Save Patient 30 in class NPM1\n",
      "Save Patient 31 in class NPM1\n",
      "Save Patient 32 in class CBFB_MYH11\n",
      "Save Patient 33 in class CBFB_MYH11\n",
      "Save Patient 34 in class RUNX1_RUNX1T1\n",
      "Save Patient 35 in class NPM1\n",
      "Save Patient 36 in class control\n",
      "Save Patient 37 in class PML_RARA\n",
      "Save Patient 38 in class control\n",
      "Save Patient 39 in class NPM1\n",
      "Save Patient 40 in class CBFB_MYH11\n",
      "Save Patient 41 in class RUNX1_RUNX1T1\n",
      "Save Patient 42 in class PML_RARA\n",
      "Save Patient 43 in class CBFB_MYH11\n",
      "Save Patient 44 in class RUNX1_RUNX1T1\n",
      "Save Patient 45 in class RUNX1_RUNX1T1\n",
      "Save Patient 46 in class NPM1\n",
      "Save Patient 47 in class RUNX1_RUNX1T1\n",
      "Save Patient 48 in class PML_RARA\n",
      "Save Patient 49 in class RUNX1_RUNX1T1\n",
      "Save Patient 50 in class PML_RARA\n"
     ]
    }
   ],
   "source": [
    "output_folder = '../../artificialdata/'+experiment_name+'/data'\n",
    "patient_classes=[]\n",
    "\n",
    "# Create the output folder if it doesn't exist\n",
    "if not os.path.exists(output_folder):\n",
    "    os.makedirs(output_folder)\n",
    "\n",
    "# Save the shuffled lists\n",
    "for i, file_paths in enumerate(shuffled_patients):\n",
    "    most_common_class = get_most_common_class(file_paths)\n",
    "    output_file_path = os.path.join(output_folder+\"/\"+most_common_class,f\"patient{i}\")\n",
    "    if not os.path.exists(output_file_path):\n",
    "        os.makedirs(output_file_path)\n",
    "    print(f\"Save Patient {i + 1} in class {most_common_class}\")\n",
    "    patient_classes.append(most_common_class)\n",
    "    file_paths=sorted(file_paths)\n",
    "    with open(output_file_path+\"/images.txt\", 'w') as file:\n",
    "        for path in file_paths:\n",
    "            file.write(path + '\\n')"
   ]
  },
  {
   "cell_type": "markdown",
   "metadata": {},
   "source": []
  },
  {
   "cell_type": "code",
   "execution_count": 5,
   "metadata": {},
   "outputs": [
    {
     "name": "stdout",
     "output_type": "stream",
     "text": [
      "Class CBFB_MYH11 contains 11 patients.\n"
     ]
    },
    {
     "name": "stdout",
     "output_type": "stream",
     "text": [
      "Class control contains 8 patients.\n",
      "Class NPM1 contains 12 patients.\n",
      "Class PML_RARA contains 12 patients.\n",
      "Class RUNX1_RUNX1T1 contains 7 patients.\n"
     ]
    }
   ],
   "source": [
    "for class_label in class_labels:\n",
    "    full_path = os.path.join(output_folder, class_label) \n",
    "\n",
    "    if os.path.exists(full_path) and os.path.isdir(full_path):\n",
    "        contents = os.listdir(full_path)\n",
    "        num_patients = sum(os.path.isdir(os.path.join(full_path, item)) for item in contents)\n",
    "\n",
    "        # Print the result\n",
    "        print(f\"Class {class_label} contains {num_patients} patients.\")\n",
    "    else:\n",
    "        print(f\"Path {full_path} does not exist or is not a directory.\")\n"
   ]
  },
  {
   "cell_type": "code",
   "execution_count": 8,
   "metadata": {},
   "outputs": [
    {
     "name": "stdout",
     "output_type": "stream",
     "text": [
      "Save patient 1 features\n",
      "Save patient 2 features\n",
      "Save patient 3 features\n",
      "Save patient 4 features\n",
      "Save patient 5 features\n",
      "Save patient 6 features\n",
      "Save patient 7 features\n",
      "Save patient 8 features\n",
      "Save patient 9 features\n",
      "Save patient 10 features\n",
      "Save patient 11 features\n",
      "Save patient 12 features\n",
      "Save patient 13 features\n",
      "Save patient 14 features\n",
      "Save patient 15 features\n",
      "Save patient 16 features\n",
      "Save patient 17 features\n",
      "Save patient 18 features\n",
      "Save patient 19 features\n",
      "Save patient 20 features\n",
      "Save patient 21 features\n",
      "Save patient 22 features\n",
      "Save patient 23 features\n",
      "Save patient 24 features\n",
      "Save patient 25 features\n",
      "Save patient 26 features\n",
      "Save patient 27 features\n",
      "Save patient 28 features\n",
      "Save patient 29 features\n",
      "Save patient 30 features\n",
      "Save patient 31 features\n",
      "Save patient 32 features\n",
      "Save patient 33 features\n",
      "Save patient 34 features\n",
      "Save patient 35 features\n",
      "Save patient 36 features\n",
      "Save patient 37 features\n",
      "Save patient 38 features\n",
      "Save patient 39 features\n",
      "Save patient 40 features\n",
      "Save patient 41 features\n",
      "Save patient 42 features\n",
      "Save patient 43 features\n",
      "Save patient 44 features\n",
      "Save patient 45 features\n",
      "Save patient 46 features\n",
      "Save patient 47 features\n",
      "Save patient 48 features\n",
      "Save patient 49 features\n",
      "Save patient 50 features\n"
     ]
    }
   ],
   "source": [
    "for patient, filepath_images_list in enumerate(shuffled_patients):\n",
    "    print(f\"Save patient {patient + 1} features\")\n",
    "    array_list=[]\n",
    "    previous_patient_id=None\n",
    "    for filepath in filepath_images_list:\n",
    "        patient_id = filepath[:filepath.find(\"/image\")]\n",
    "        if previous_patient_id!=patient_id:\n",
    "            #print(f\"New patient: {patient_id}, old patient : {previous_patient_id}\")\n",
    "            features=np.load(patient_id+\"/fnl34_bn_features_layer_7.npy\")\n",
    "        array_list.append([ features[extract_number_image(filepath)] ])\n",
    "        previous_patient_id=patient_id\n",
    "    #Concatenate all features for one artificial patient    \n",
    "    artificial_features = np.concatenate(array_list,axis=0)\n",
    "    patient_class = patient_classes[patient]\n",
    "    output_npy_file = output_folder+f\"/{patient_class}/patient{patient}/fnl34_bn_features_layer_7.npy\"\n",
    "    # Save the array to the .npy file\n",
    "    np.save(output_npy_file, artificial_features)\n"
   ]
  },
  {
   "cell_type": "code",
   "execution_count": 9,
   "metadata": {},
   "outputs": [],
   "source": [
    "#Save metadata file\n",
    "columns = ['patient_id', 'sex_1f_2m', 'age', 'bag_label', 'instance_count',\n",
    "       'leucocytes_per_¬µl', 'pb_myeloblast', 'pb_promyelocyte',\n",
    "       'pb_myelocyte', 'pb_metamyelocyte', 'pb_neutrophil_band',\n",
    "       'pb_neutrophil_segmented', 'pb_eosinophil', 'pb_basophil',\n",
    "       'pb_monocyte', 'pb_lymph_typ', 'pb_lymph_atyp_react',\n",
    "       'pb_lymph_atyp_neopl', 'pb_other', 'pb_total']\n",
    "artifcialmetadata = pd.DataFrame(columns=columns)\n",
    "artifcialmetadata['patient_id'] = [f\"patient{i}\" for i in range(n_patients)]\n",
    "artifcialmetadata['bag_label'] = patient_classes\n",
    "artifcialmetadata['instance_count'] = n_images\n",
    "artifcialmetadata.to_csv(os.path.dirname(output_folder)+'/metadata.csv', index=False)"
   ]
  }
 ],
 "metadata": {
  "kernelspec": {
   "display_name": "scemila",
   "language": "python",
   "name": "python3"
  },
  "language_info": {
   "codemirror_mode": {
    "name": "ipython",
    "version": 3
   },
   "file_extension": ".py",
   "mimetype": "text/x-python",
   "name": "python",
   "nbconvert_exporter": "python",
   "pygments_lexer": "ipython3",
   "version": "3.10.13"
  }
 },
 "nbformat": 4,
 "nbformat_minor": 2
}
