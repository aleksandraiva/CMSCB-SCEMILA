{
 "cells": [
  {
   "cell_type": "code",
   "execution_count": null,
   "metadata": {},
   "outputs": [],
   "source": [
    "import os\n",
    "import numpy as np"
   ]
  },
  {
   "cell_type": "code",
   "execution_count": null,
   "metadata": {},
   "outputs": [],
   "source": [
    "def process_class(class_path):\n",
    "    # Iterate over each patient folder in the given class path\n",
    "    for patient_folder in os.listdir(class_path):\n",
    "        patient_path = os.path.join(class_path, patient_folder)\n",
    "        print(patient_path)\n",
    "\n",
    "        # Check if it's a directory\n",
    "        if os.path.isdir(patient_path):\n",
    "            # Construct the path to the image_paths_file\n",
    "            image_paths_file_path = os.path.join(patient_path, \"image_file_paths\")\n",
    "\n",
    "            # Check if the image_paths_file exists\n",
    "            if os.path.exists(image_paths_file_path):\n",
    "                # Read image paths from the image_paths_file\n",
    "                with open(image_paths_file_path, 'r', encoding='latin-1') as file:\n",
    "                    image_paths = [line.strip() for line in file]\n",
    "                    print(\"Image paths:\")\n",
    "                    print(image_paths)\n",
    "\n",
    "                single_cell_probs_vector = []\n",
    "                \n",
    "                # Iterate over image paths and get corresponding index\n",
    "                for index, image_path in enumerate(image_paths):\n",
    "                    # Construct the path to single_cell_probabilities.npy\n",
    "                    super_class_path = os.path.dirname(os.path.dirname(image_path))\n",
    "                    print(\"Super class:\")\n",
    "                    print(super_class_path)\n",
    "                    probabilities_file_path = os.path.join(super_class_path, \"single_cell_probabilities.npy\")\n",
    "                    print(\"SC probs file path:\")\n",
    "                    print(probabilities_file_path)\n",
    "\n",
    "                    # Check if the probabilities file exists\n",
    "                    if os.path.exists(probabilities_file_path):\n",
    "                        # Load the probabilities array\n",
    "                        probabilities = np.load(probabilities_file_path)\n",
    "\n",
    "                        # Get the value from the probabilities array using the index\n",
    "                        value = probabilities[index]\n",
    "\n",
    "                        # Do something with the value, for example, print it\n",
    "                        print(f\"Subfolder: {patient_folder}, Index: {index}, Value: {value}\")\n",
    "                        # Append the value to the vector\n",
    "                        single_cell_probs_vector.append(value)\n",
    "\n",
    "                save_path = os.path.join(patient_path, \"single_cell_probabilities.npy\")\n",
    "                np.save(save_path, np.array(single_cell_probs_vector))\n",
    "                print(f\"Values vector saved for patient {patient_folder} at {save_path}\")\n",
    "            "
   ]
  },
  {
   "cell_type": "code",
   "execution_count": null,
   "metadata": {},
   "outputs": [],
   "source": [
    "path = \"/mnt/volume/shared/data_file/artificialdata/test_single_cell_probabilities/data/NPM1\"\n",
    "process_class(path)"
   ]
  }
 ],
 "metadata": {
  "language_info": {
   "name": "python"
  },
  "orig_nbformat": 4
 },
 "nbformat": 4,
 "nbformat_minor": 2
}
