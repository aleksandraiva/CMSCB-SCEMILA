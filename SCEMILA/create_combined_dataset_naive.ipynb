{
 "cells": [
  {
   "cell_type": "code",
   "execution_count": 1,
   "metadata": {},
   "outputs": [],
   "source": [
    "import os\n",
    "import random"
   ]
  },
  {
   "cell_type": "code",
   "execution_count": 34,
   "metadata": {},
   "outputs": [],
   "source": [
    "def count_direct_subfolders(root_folder):\n",
    "    return sum(1 for item in os.listdir(root_folder) if os.path.isdir(os.path.join(root_folder, item)))\n",
    "\n",
    "def count_subfolders(folder_path):\n",
    "    total_folders = sum(len(dirs) for root, dirs, _ in os.walk(folder_path))\n",
    "    direct_subfolders_count = count_direct_subfolders(folder_path)\n",
    "    return total_folders - direct_subfolders_count\n",
    "\n",
    "def select_folders(data_folder_1, artificialdata_folder, percentage):\n",
    "    # Get list of folders in data_folder_1\n",
    "    data_folders_1 = [f for f in os.listdir(data_folder_1) if os.path.isdir(os.path.join(data_folder_1, f))]\n",
    "    \n",
    "    # Get list of folders in data_folder_2 within artificialdata_folder\n",
    "    data_folder_2_path = os.path.join(artificialdata_folder, 'experiment_3', 'data')\n",
    "    data_folders_2 = [os.path.join(root, dir) for root, dirs, files in os.walk(data_folder_2_path) for dir in dirs]\n",
    "    \n",
    "    # Calculate the total number of folders within data_folder_1\n",
    "    total_folders_in_data_folder_1 = count_subfolders(data_folder_1)\n",
    "    \n",
    "    # Calculate the total number of folders within data_folder_2\n",
    "    total_folders_in_data_folder_2 = count_subfolders(data_folder_2_path)\n",
    "    \n",
    "    # Calculate the maximum number of folders that can be selected\n",
    "    max_folders_to_select = min(total_folders_in_data_folder_2, int(total_folders_in_data_folder_2 * (percentage / 100)))\n",
    "    \n",
    "    # Randomly select folders from data_folder_2\n",
    "    num_folders_to_select = min(max_folders_to_select, len(data_folders_2))\n",
    "    selected_folders = random.sample(data_folders_2, num_folders_to_select)\n",
    "    \n",
    "    # Print the total number of subfolders in data_folder_1\n",
    "    print(f\"Total number of subfolders in {data_folder_1}: {total_folders_in_data_folder_1}\")\n",
    "    \n",
    "    return selected_folders"
   ]
  },
  {
   "cell_type": "code",
   "execution_count": 36,
   "metadata": {},
   "outputs": [
    {
     "name": "stdout",
     "output_type": "stream",
     "text": [
      "Total number of subfolders in ../../data: 25\n",
      "Selected folders from artificialdata folder:\n",
      "../../artificialdata/experiment_3/data/PML_RARA/patient_3\n",
      "../../artificialdata/experiment_3/data/RUNX1_RUNX1T1/patient_4\n",
      "../../artificialdata/experiment_3/data/CBFB_MYH11/patient_5\n",
      "../../artificialdata/experiment_3/data/control/patient_1\n",
      "../../artificialdata/experiment_3/data/NPM1/patient_5\n"
     ]
    }
   ],
   "source": [
    "data_folder_1 = '../../data'\n",
    "artificialdata_folder = '../../artificialdata'\n",
    "percentage = 20  \n",
    "\n",
    "selected_folders = select_folders(data_folder_1, artificialdata_folder, percentage)\n",
    "print(\"Selected folders from artificialdata folder:\")\n",
    "for folder in selected_folders:\n",
    "    print(folder)\n"
   ]
  }
 ],
 "metadata": {
  "kernelspec": {
   "display_name": "leukemia",
   "language": "python",
   "name": "python3"
  },
  "language_info": {
   "codemirror_mode": {
    "name": "ipython",
    "version": 3
   },
   "file_extension": ".py",
   "mimetype": "text/x-python",
   "name": "python",
   "nbconvert_exporter": "python",
   "pygments_lexer": "ipython3",
   "version": "3.11.7"
  }
 },
 "nbformat": 4,
 "nbformat_minor": 2
}
