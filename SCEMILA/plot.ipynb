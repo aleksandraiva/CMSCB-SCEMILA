{
 "cells": [
  {
   "cell_type": "code",
   "execution_count": 17,
   "metadata": {},
   "outputs": [],
   "source": [
    "import matplotlib.pyplot as plt\n",
    "import numpy as np\n",
    "import os\n",
    "import pandas as pd"
   ]
  },
  {
   "cell_type": "code",
   "execution_count": 4,
   "metadata": {},
   "outputs": [],
   "source": [
    "folder_patient = '/Users/aleksandraivanova/Desktop/CMSCB/data/NPM1/ZEQ'"
   ]
  },
  {
   "cell_type": "code",
   "execution_count": 9,
   "metadata": {},
   "outputs": [],
   "source": [
    "classes = range(21)"
   ]
  },
  {
   "cell_type": "code",
   "execution_count": 26,
   "metadata": {},
   "outputs": [
    {
     "ename": "TypeError",
     "evalue": "unsupported operand type(s) for +: 'range' and 'str'",
     "output_type": "error",
     "traceback": [
      "\u001b[0;31m---------------------------------------------------------------------------\u001b[0m",
      "\u001b[0;31mTypeError\u001b[0m                                 Traceback (most recent call last)",
      "Cell \u001b[0;32mIn[26], line 13\u001b[0m\n\u001b[1;32m     10\u001b[0m \u001b[39m# Fill the counts vector with the label counts\u001b[39;00m\n\u001b[1;32m     11\u001b[0m counts_vector[unique_labels] \u001b[39m=\u001b[39m label_counts\n\u001b[0;32m---> 13\u001b[0m df \u001b[39m=\u001b[39m pd\u001b[39m.\u001b[39mDataFrame(columns\u001b[39m=\u001b[39mclasses \u001b[39m+\u001b[39;49m \u001b[39m'\u001b[39;49m\u001b[39mpatient\u001b[39;49m\u001b[39m'\u001b[39;49m)\n\u001b[1;32m     14\u001b[0m df\u001b[39m.\u001b[39mloc[\u001b[39mlen\u001b[39m(df)] \u001b[39m=\u001b[39m counts_vector\n\u001b[1;32m     15\u001b[0m \u001b[39mprint\u001b[39m(df)\n",
      "\u001b[0;31mTypeError\u001b[0m: unsupported operand type(s) for +: 'range' and 'str'"
     ]
    }
   ],
   "source": [
    "sc_probs = np.load(folder_patient + '/single_cell_probabilities.npy')\n",
    "sc_class= np.argmax(sc_probs, axis=1)\n",
    "\n",
    "# Count the occurrences of each label\n",
    "unique_labels, label_counts = np.unique(sc_class, return_counts=True)\n",
    "\n",
    "# Create a new vector to store the counts\n",
    "counts_vector = np.zeros(21, dtype=int)  # Assuming labels range from 0 to 21\n",
    "\n",
    "# Fill the counts vector with the label counts\n",
    "counts_vector[unique_labels] = label_counts\n",
    "\n",
    "df = pd.DataFrame(columns=classes + 'patient')\n",
    "df.loc[len(df)] = counts_vector\n",
    "print(df)\n",
    "\n"
   ]
  },
  {
   "cell_type": "code",
   "execution_count": 3,
   "metadata": {},
   "outputs": [],
   "source": [
    "# define paths\n",
    "PATH_TO_IMAGES = '/Users/aleksandraivanova/Desktop/CMSCB/data'\n",
    "PATH_TO_MODEL = os.path.join(os.getcwd(), 'class_conversion-csv/model.pt')"
   ]
  },
  {
   "cell_type": "code",
   "execution_count": null,
   "metadata": {},
   "outputs": [],
   "source": [
    "for folder_class in os.listdir(PATH_TO_IMAGES):\n",
    "    folder_class = os.path.join(PATH_TO_IMAGES, folder_class)\n",
    "    \n",
    "    if os.path.isdir(folder_class):\n",
    "       print(folder_class)\n",
    "       for folder_patient in os.listdir(folder_class):\n",
    "           folder_patient = os.path.join(folder_class, folder_patient)"
   ]
  }
 ],
 "metadata": {
  "kernelspec": {
   "display_name": "Python 3",
   "language": "python",
   "name": "python3"
  },
  "language_info": {
   "codemirror_mode": {
    "name": "ipython",
    "version": 3
   },
   "file_extension": ".py",
   "mimetype": "text/x-python",
   "name": "python",
   "nbconvert_exporter": "python",
   "pygments_lexer": "ipython3",
   "version": "3.9.18"
  },
  "orig_nbformat": 4
 },
 "nbformat": 4,
 "nbformat_minor": 2
}
