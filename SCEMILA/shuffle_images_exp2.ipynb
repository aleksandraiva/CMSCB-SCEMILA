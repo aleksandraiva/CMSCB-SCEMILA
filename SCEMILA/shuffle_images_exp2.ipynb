{
 "cells": [
  {
   "cell_type": "code",
   "execution_count": 71,
   "metadata": {},
   "outputs": [],
   "source": [
    "import numpy as np\n",
    "import glob\n",
    "import os\n",
    "import random\n",
    "import re\n",
    "from collections import Counter\n",
    "import pandas as pd\n",
    "\n",
    "class_labels = [\"CBFB_MYH11\",\"control\",\"NPM1\",\"PML_RARA\",\"RUNX1_RUNX1T1\"]\n",
    "n_classes = len(class_labels)\n",
    "\n",
    "#Function to get list of image_paths in one folder\n",
    "def get_image_path_list(folder_path):\n",
    "    tif_files = glob.glob(f\"{folder_path}/*.tif\")\n",
    "    return tif_files\n",
    "\n",
    "\"\"\"\n",
    "shuffle list into n new lists:\n",
    "num_lists: number of new lists\n",
    "items_per_list: item per each new list\n",
    "\"\"\"\n",
    "def shuffle_into_lists(original_list, num_lists, items_per_list,seed=4):\n",
    "    # Shuffle the original list in-place\n",
    "    random.seed(seed)\n",
    "    random.shuffle(original_list)\n",
    "    total_items = len(original_list)\n",
    "    \n",
    "    # Check if the specified number of lists and items per list are valid\n",
    "    if num_lists * items_per_list > total_items:\n",
    "        raise ValueError(\"Invalid parameters: Not enough items in the original list.\")\n",
    "    \n",
    "    result_lists = [original_list[i:i+items_per_list] for i in range(0, num_lists*items_per_list, items_per_list)]\n",
    "    return result_lists\n",
    "\n",
    "#exracts the number of image in the file_path e.g. \"image_123.tif\"\n",
    "def extract_number_image(file_path):\n",
    "    # Use a regular expression to find the number after \"image_\" and before \".tif\"\n",
    "    match = re.search(r'image_(\\d+).tif', file_path)\n",
    "    return int(match.group(1))\n"
   ]
  },
  {
   "cell_type": "code",
   "execution_count": 50,
   "metadata": {},
   "outputs": [],
   "source": [
    "# Shuffle into n patients with n images\n",
    "n_patients=5\n",
    "n_images=10\n",
    "experiment_name = \"experiment_2\""
   ]
  },
  {
   "cell_type": "code",
   "execution_count": 51,
   "metadata": {},
   "outputs": [
    {
     "name": "stdout",
     "output_type": "stream",
     "text": [
      "NPM1\n",
      "CBFB_MYH11\n",
      "PML_RARA\n",
      "control\n",
      "RUNX1_RUNX1T1\n"
     ]
    }
   ],
   "source": [
    "# Set the path to your data directory\n",
    "data_directory = '../smalldataset'\n",
    "\n",
    "\n",
    "# Get a list of all class folders in the data directory\n",
    "class_folders = [folder for folder in os.listdir(data_directory) if os.path.isdir(os.path.join(data_directory, folder))]\n",
    "\n",
    "# Dictionary to store shuffled image paths for each class\n",
    "shuffled_images = {}\n",
    "\n",
    "# Iterate over each class folder\n",
    "for class_folder in class_folders:\n",
    "    class_path = os.path.join(data_directory, class_folder)\n",
    "    print(class_folder)\n",
    "    \n",
    "    # Get a list of all patient folders in the class folder\n",
    "    patient_folders = [folder for folder in os.listdir(class_path) if os.path.isdir(os.path.join(class_path, folder))]\n",
    "    \n",
    "    # List to store image paths for the current class\n",
    "    class_image_paths = []\n",
    "    \n",
    "    # Iterate over each patient folder in the class\n",
    "    for patient_folder in patient_folders:\n",
    "        patient_path = os.path.join(class_path, patient_folder)\n",
    "\n",
    "        # Get a list of all image file paths of the current patient\n",
    "        image_paths = get_image_path_list(patient_path)\n",
    "\n",
    "        # Extend the class_image_paths list with the current patient's image paths\n",
    "        class_image_paths.extend(image_paths)\n",
    "    \n",
    "    shuffled_lists = shuffle_into_lists(class_image_paths, n_patients, n_images)\n",
    "    shuffled_images[class_folder] = shuffled_lists\n",
    "   \n",
    "# Now you have a dictionary where keys are class folders and values are lists of shuffled image paths\n",
    "# You can access them like this: shuffled_images['NPM1'], shuffled_images['control'], etc.\n",
    "        \n",
    "        "
   ]
  },
  {
   "cell_type": "code",
   "execution_count": 67,
   "metadata": {},
   "outputs": [
    {
     "name": "stdout",
     "output_type": "stream",
     "text": [
      "['NPM1', 'NPM1', 'NPM1', 'NPM1', 'NPM1', 'CBFB_MYH11', 'CBFB_MYH11', 'CBFB_MYH11', 'CBFB_MYH11', 'CBFB_MYH11', 'PML_RARA', 'PML_RARA', 'PML_RARA', 'PML_RARA', 'PML_RARA', 'control', 'control', 'control', 'control', 'control', 'RUNX1_RUNX1T1', 'RUNX1_RUNX1T1', 'RUNX1_RUNX1T1', 'RUNX1_RUNX1T1', 'RUNX1_RUNX1T1']\n"
     ]
    }
   ],
   "source": [
    "# Save the new patients\n",
    "output_folder = '../artificialdata/'+experiment_name+'/data'\n",
    "patient_classes = []\n",
    "\n",
    "# Create the output folder if it doesn't exist\n",
    "if not os.path.exists(output_folder):\n",
    "    os.makedirs(output_folder)\n",
    "\n",
    "# Iterate over each class and its shuffled image lists\n",
    "for class_folder, shuffled_lists in shuffled_images.items():\n",
    "    # Create a folder for the current class in the output directory\n",
    "    output_class_folder = os.path.join(output_folder, class_folder)\n",
    "    os.makedirs(output_class_folder, exist_ok=True)\n",
    "    \n",
    "    # Iterate over each shuffled patient folder\n",
    "    for i, shuffled_patient_folder in enumerate(shuffled_lists):\n",
    "        # Create a new folder for the shuffled patient\n",
    "        new_patient_folder = os.path.join(output_class_folder, f'patient_{i+1}')\n",
    "        os.makedirs(new_patient_folder, exist_ok=True)\n",
    "\n",
    "        # Store class of each patient in a list for the metadate\n",
    "        patient_classes.append(class_folder)\n",
    "\n",
    "        # Sort the shuffled image paths for the current patient\n",
    "        shuffled_patient_folder.sort()\n",
    "        \n",
    "        # Save the shuffled image paths into a text file\n",
    "        txt_file_path = os.path.join(new_patient_folder, 'images.txt')\n",
    "        with open(txt_file_path, 'w') as txt_file:\n",
    "            for image_path in shuffled_patient_folder:\n",
    "                txt_file.write(image_path + '\\n')\n",
    "print(patient_classes)"
   ]
  },
  {
   "cell_type": "code",
   "execution_count": 68,
   "metadata": {},
   "outputs": [
    {
     "name": "stdout",
     "output_type": "stream",
     "text": [
      "Save patient 1 features\n",
      "Save patient 2 features\n",
      "Save patient 3 features\n",
      "Save patient 4 features\n",
      "Save patient 5 features\n",
      "Save patient 1 features\n",
      "Save patient 2 features\n",
      "Save patient 3 features\n",
      "Save patient 4 features\n",
      "Save patient 5 features\n",
      "Save patient 1 features\n",
      "Save patient 2 features\n",
      "Save patient 3 features\n",
      "Save patient 4 features\n",
      "Save patient 5 features\n",
      "Save patient 1 features\n",
      "Save patient 2 features\n",
      "Save patient 3 features\n",
      "Save patient 4 features\n",
      "Save patient 5 features\n",
      "Save patient 1 features\n",
      "Save patient 2 features\n",
      "Save patient 3 features\n",
      "Save patient 4 features\n",
      "Save patient 5 features\n"
     ]
    }
   ],
   "source": [
    "# Iterate over each class and its shuffled image lists\n",
    "for class_folder, shuffled_lists in shuffled_images.items():\n",
    "    # Iterate over each shuffled patient folder\n",
    "    for patient, shuffled_patient_folder in enumerate(shuffled_lists):\n",
    "        print(f\"Save patient {patient + 1} features\")\n",
    "        array_list=[]\n",
    "        previous_patient_id=None\n",
    "        # Iterate through each image path\n",
    "        for image_path in shuffled_patient_folder:\n",
    "            patient_id = image_path[:image_path.find(\"/image\")]\n",
    "            if previous_patient_id!=patient_id:\n",
    "                #print(f\"New patient: {patient_id}, old patient : {previous_patient_id}\")\n",
    "                features=np.load(patient_id+\"/fnl34_bn_features_layer_7.npy\")\n",
    "            array_list.append([features[extract_number_image(image_path)]])\n",
    "            previous_patient_id=patient_id\n",
    "        #Concatenate all features for one artificial patient    \n",
    "        artificial_features = np.concatenate(array_list,axis=0)\n",
    "        output_npy_file = output_folder+f\"/{class_folder}/patient_{patient+1}/fnl34_bn_features_layer_7.npy\"\n",
    "        # Save the array to the .npy file\n",
    "        np.save(output_npy_file, artificial_features)"
   ]
  },
  {
   "cell_type": "code",
   "execution_count": 74,
   "metadata": {},
   "outputs": [],
   "source": [
    "#Save metadata file\n",
    "columns = ['patient_id', 'sex_1f_2m', 'age', 'bag_label', 'instance_count',\n",
    "       'leucocytes_per_µl', 'pb_myeloblast', 'pb_promyelocyte',\n",
    "       'pb_myelocyte', 'pb_metamyelocyte', 'pb_neutrophil_band',\n",
    "       'pb_neutrophil_segmented', 'pb_eosinophil', 'pb_basophil',\n",
    "       'pb_monocyte', 'pb_lymph_typ', 'pb_lymph_atyp_react',\n",
    "       'pb_lymph_atyp_neopl', 'pb_other', 'pb_total']\n",
    "artifcialmetadata = pd.DataFrame(columns=columns)\n",
    "artifcialmetadata['patient_id'] = [f\"patient{i%5 + 1}\" for i in range(n_patients*n_classes)]\n",
    "artifcialmetadata['bag_label'] = patient_classes\n",
    "artifcialmetadata['instance_count'] = n_images\n",
    "artifcialmetadata.to_csv(os.path.dirname(output_folder)+'/metadata.csv', index=False)"
   ]
  }
 ],
 "metadata": {
  "kernelspec": {
   "display_name": "comp-methods",
   "language": "python",
   "name": "comp-methods-env"
  },
  "language_info": {
   "codemirror_mode": {
    "name": "ipython",
    "version": 3
   },
   "file_extension": ".py",
   "mimetype": "text/x-python",
   "name": "python",
   "nbconvert_exporter": "python",
   "pygments_lexer": "ipython3",
   "version": "3.10.13"
  },
  "orig_nbformat": 4
 },
 "nbformat": 4,
 "nbformat_minor": 2
}
