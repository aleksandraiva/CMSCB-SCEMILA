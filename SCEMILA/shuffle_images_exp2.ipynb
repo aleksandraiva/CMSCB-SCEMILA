{
 "cells": [
  {
   "cell_type": "code",
   "execution_count": 1,
   "metadata": {},
   "outputs": [],
   "source": [
    "import numpy as np\n",
    "import glob\n",
    "import os\n",
    "import random\n",
    "import re\n",
    "\n",
    "#Function to get list of image_paths in one folder\n",
    "def get_image_path_list(folder_path):\n",
    "    tif_files = glob.glob(f\"{folder_path}/*.tif\")\n",
    "    return tif_files\n",
    "\n",
    "\"\"\"\n",
    "shuffle list into n new lists:\n",
    "num_lists: number of new lists\n",
    "items_per_list: item per each new list\n",
    "\"\"\"\n",
    "def shuffle_into_lists(original_list, num_lists, items_per_list):\n",
    "    # Shuffle the original list in-place\n",
    "    random.shuffle(original_list)\n",
    "    total_items = len(original_list)\n",
    "    \n",
    "    # Check if the specified number of lists and items per list are valid\n",
    "    if num_lists * items_per_list > total_items:\n",
    "        raise ValueError(\"Invalid parameters: Not enough items in the original list.\")\n",
    "    \n",
    "    result_lists = [original_list[i:i+items_per_list] for i in range(0, num_lists*items_per_list, items_per_list)]\n",
    "    return result_lists\n",
    "\n",
    "#exracts the number of image in the file_path e.g. \"image_123.tif\"\n",
    "def extract_number_image(file_path):\n",
    "    # Use a regular expression to find the number after \"image_\" and before \".tif\"\n",
    "    match = re.search(r'image_(\\d+).tif', file_path)\n",
    "\n",
    "    # Check if a match is found\n",
    "    return int(match.group(1))"
   ]
  },
  {
   "cell_type": "code",
   "execution_count": 2,
   "metadata": {},
   "outputs": [
    {
     "name": "stdout",
     "output_type": "stream",
     "text": [
      "../../smalldataset/data/CBFB_MYH11\n",
      "../../smalldataset/data/control\n",
      "../../smalldataset/data/NPM1\n",
      "../../smalldataset/data/output\n",
      "../../smalldataset/data/PML_RARA\n",
      "../../smalldataset/data/RUNX1_RUNX1T1\n",
      "Number of all images 11122\n"
     ]
    }
   ],
   "source": [
    "datafile_path=\"../../smalldataset\"\n",
    "parent_folder = datafile_path+\"/data\"\n",
    "image_path_list = []\n",
    "for folder_class in os.listdir(parent_folder):\n",
    "    folder_class = os.path.join(parent_folder, folder_class)\n",
    "    \n",
    "    if os.path.isdir(folder_class):\n",
    "       print(folder_class)\n",
    "       for folder_patient in os.listdir(folder_class):\n",
    "            folder_patient = os.path.join(folder_class, folder_patient)\n",
    "            if os.path.isdir(folder_patient):\n",
    "                #print(\"Found folder:\", folder_patient)\n",
    "                image_path_list+=get_image_path_list(folder_patient)\n",
    "print(f\"Number of all images {len(image_path_list)}\")                "
   ]
  },
  {
   "cell_type": "code",
   "execution_count": 3,
   "metadata": {},
   "outputs": [],
   "source": [
    "# Shuffle into n patients with n images\n",
    "n_patients=10\n",
    "n_images=10\n",
    "experiment_name = \"experiment_1\"\n",
    "\n",
    "shuffled_patients = shuffle_into_lists(image_path_list, n_patients, n_images)\n",
    "\n",
    "output_folder = datafile_path+'/artificialdata/'+experiment_name\n",
    "\n",
    "# Create the output folder if it doesn't exist\n",
    "if not os.path.exists(output_folder):\n",
    "    os.makedirs(output_folder)\n",
    "\n",
    "# Print the shuffled lists\n",
    "for i, file_paths in enumerate(shuffled_patients):\n",
    "    output_file_path = os.path.join(output_folder,f\"patient{i}\")\n",
    "    if not os.path.exists(output_file_path):\n",
    "        os.makedirs(output_file_path)\n",
    "    #print(f\"Patient {i + 1}: {sublist}\")\n",
    "    with open(output_file_path+\"/images.txt\", 'w') as file:\n",
    "        for path in file_paths:\n",
    "            file.write(path + '\\n')"
   ]
  },
  {
   "cell_type": "code",
   "execution_count": 133,
   "metadata": {},
   "outputs": [
    {
     "name": "stdout",
     "output_type": "stream",
     "text": [
      "Save patient 1 features\n"
     ]
    },
    {
     "name": "stdout",
     "output_type": "stream",
     "text": [
      "Save patient 2 features\n",
      "Save patient 3 features\n",
      "Save patient 4 features\n",
      "Save patient 5 features\n",
      "Save patient 6 features\n",
      "Save patient 7 features\n",
      "Save patient 8 features\n",
      "Save patient 9 features\n",
      "Save patient 10 features\n"
     ]
    }
   ],
   "source": [
    "for patient, filepath_images_list in enumerate(shuffled_patients):\n",
    "    print(f\"Save patient {patient + 1} features\")\n",
    "    array_list=[]\n",
    "    for filepath in filepath_images_list:\n",
    "        patient_id = filepath[:filepath.find(\"/image\")]\n",
    "        features=np.load(patient_id+\"/fnl34_bn_features_layer_7.npy\")\n",
    "        array_list.append([ features[extract_number_image(filepath)] ])\n",
    "    #Concatenate all features for one artificial patient    \n",
    "    artificial_features = np.concatenate(array_list,axis=0)\n",
    "    output_npy_file = output_folder+f\"/patient{patient}/fnl34_bn_features_layer_7.npy\"\n",
    "    # Save the array to the .npy file\n",
    "    np.save(output_npy_file, artificial_features)\n"
   ]
  }
 ],
 "metadata": {
  "kernelspec": {
   "display_name": "scemila",
   "language": "python",
   "name": "python3"
  },
  "language_info": {
   "codemirror_mode": {
    "name": "ipython",
    "version": 3
   },
   "file_extension": ".py",
   "mimetype": "text/x-python",
   "name": "python",
   "nbconvert_exporter": "python",
   "pygments_lexer": "ipython3",
   "version": "3.10.13"
  }
 },
 "nbformat": 4,
 "nbformat_minor": 2
}
