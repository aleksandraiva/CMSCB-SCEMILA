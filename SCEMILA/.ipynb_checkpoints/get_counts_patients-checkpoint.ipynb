{
 "cells": [
  {
   "cell_type": "code",
   "execution_count": 43,
   "id": "980fb45f-6011-43db-8018-e656104ba3dc",
   "metadata": {},
   "outputs": [],
   "source": [
    "import os\n",
    "import pickle"
   ]
  },
  {
   "cell_type": "code",
   "execution_count": 62,
   "id": "c8beef6d-2276-436c-8998-50f6ffa1e14f",
   "metadata": {},
   "outputs": [],
   "source": [
    "def get_class_sizes(folder,dictionary=None):\n",
    "    class_sizes = []\n",
    "    for i,class_label in enumerate(['PML_RARA','NPM1','CBFB_MYH11','RUNX1_RUNX1T1','control']):\n",
    "        if dictionary is None:\n",
    "            count = len(os.listdir(folder+\"/\"+class_label))\n",
    "            class_sizes.append(count)\n",
    "        else:\n",
    "            class_sizes.append(len(dictionary[class_label]))\n",
    "    return class_sizes"
   ]
  },
  {
   "cell_type": "code",
   "execution_count": 63,
   "id": "49e9d5e5-bf10-488b-9de4-40a1f53666c0",
   "metadata": {},
   "outputs": [],
   "source": [
    "SOURCE_FOLDER = '/mnt/volume/shared/data_file/mixeddata_debug/10_percent'\n",
    "test_folder = '/mnt/volume/shared/test_data/data'\n",
    "with open(SOURCE_FOLDER+'/file_paths.pkl', 'rb') as f:\n",
    "        mixed_data_filepaths = pickle.load(f)"
   ]
  },
  {
   "cell_type": "code",
   "execution_count": 64,
   "id": "3155ff2f-2c85-48b0-899b-09c8b7bd9c3f",
   "metadata": {},
   "outputs": [
    {
     "data": {
      "text/plain": [
       "[21, 32, 33, 29, 53]"
      ]
     },
     "execution_count": 64,
     "metadata": {},
     "output_type": "execute_result"
    }
   ],
   "source": [
    "#Get class_sizes for test_data\n",
    "class_sizes_test = get_class_sizes(test_folder)\n",
    "class_sizes_train= get_class_sizes(SOURCE_FOLDER,mixed_data_filepaths)\n",
    "class_sizes_train"
   ]
  },
  {
   "cell_type": "code",
   "execution_count": 65,
   "id": "d6431266-6b49-4d57-90e6-795760879948",
   "metadata": {},
   "outputs": [
    {
     "data": {
      "text/plain": [
       "[5, 7, 7, 6, 12]"
      ]
     },
     "execution_count": 65,
     "metadata": {},
     "output_type": "execute_result"
    }
   ],
   "source": [
    "class_sizes_test"
   ]
  }
 ],
 "metadata": {
  "kernelspec": {
   "display_name": "Python 3 (ipykernel)",
   "language": "python",
   "name": "python3"
  },
  "language_info": {
   "codemirror_mode": {
    "name": "ipython",
    "version": 3
   },
   "file_extension": ".py",
   "mimetype": "text/x-python",
   "name": "python",
   "nbconvert_exporter": "python",
   "pygments_lexer": "ipython3",
   "version": "3.10.9"
  }
 },
 "nbformat": 4,
 "nbformat_minor": 5
}
