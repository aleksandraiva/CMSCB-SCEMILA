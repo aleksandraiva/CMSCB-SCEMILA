{
 "cells": [
  {
   "cell_type": "code",
   "execution_count": 1,
   "metadata": {},
   "outputs": [],
   "source": [
    "import os\n",
    "import numpy as np\n",
    "import pickle"
   ]
  },
  {
   "cell_type": "code",
   "execution_count": 91,
   "metadata": {},
   "outputs": [
    {
     "name": "stdout",
     "output_type": "stream",
     "text": [
      "//mnt/volume/shared/data_file/artificialdata/experiment_3_seed42/data/control/patient_36\n",
      "//mnt/volume/shared/data_file/artificialdata/experiment_3_seed42/data/control/patient_19\n",
      "//mnt/volume/shared/data_file/artificialdata/experiment_3_seed42/data/control/patient_11\n",
      "//mnt/volume/shared/data_file/artificialdata/experiment_3_seed42/data/control/patient_34\n",
      "//mnt/volume/shared/data_file/artificialdata/experiment_3_seed42/data/control/patient_18\n",
      "//mnt/volume/shared/data_file/artificialdata/experiment_3_seed42/data/control/patient_21\n",
      "//mnt/volume/shared/data_file/artificialdata/experiment_3_seed42/data/control/patient_20\n",
      "//mnt/volume/shared/data_file/artificialdata/experiment_3_seed42/data/control/patient_33\n",
      "//mnt/volume/shared/data_file/artificialdata/experiment_3_seed42/data/control/patient_23\n",
      "//mnt/volume/shared/data_file/artificialdata/experiment_3_seed42/data/control/patient_27\n",
      "//mnt/volume/shared/data_file/artificialdata/experiment_3_seed42/data/control/patient_5\n",
      "//mnt/volume/shared/data_file/artificialdata/experiment_3_seed42/data/control/patient_8\n",
      "//mnt/volume/shared/data_file/artificialdata/experiment_3_seed42/data/control/patient_7\n",
      "//mnt/volume/shared/data_file/artificialdata/experiment_3_seed42/data/control/patient_26\n",
      "//mnt/volume/shared/data_file/artificialdata/experiment_3_seed42/data/control/patient_28\n",
      "//mnt/volume/shared/data_file/artificialdata/experiment_3_seed42/data/control/patient_22\n",
      "//mnt/volume/shared/data_file/artificialdata/experiment_3_seed42/data/control/patient_1\n",
      "//mnt/volume/shared/data_file/artificialdata/experiment_3_seed42/data/control/patient_25\n",
      "//mnt/volume/shared/data_file/artificialdata/experiment_3_seed42/data/control/patient_41\n",
      "//mnt/volume/shared/data_file/artificialdata/experiment_3_seed42/data/control/patient_13\n",
      "//mnt/volume/shared/data_file/artificialdata/experiment_3_seed42/data/control/patient_6\n",
      "//mnt/volume/shared/data_file/artificialdata/experiment_3_seed42/data/control/patient_16\n",
      "//mnt/volume/shared/data_file/artificialdata/experiment_3_seed42/data/control/patient_39\n",
      "//mnt/volume/shared/data_file/artificialdata/experiment_3_seed42/data/control/patient_17\n",
      "//mnt/volume/shared/data_file/artificialdata/experiment_3_seed42/data/control/patient_37\n",
      "//mnt/volume/shared/data_file/artificialdata/experiment_3_seed42/data/control/patient_14\n",
      "//mnt/volume/shared/data_file/artificialdata/experiment_3_seed42/data/control/patient_24\n",
      "//mnt/volume/shared/data_file/artificialdata/experiment_3_seed42/data/control/patient_32\n",
      "//mnt/volume/shared/data_file/artificialdata/experiment_3_seed42/data/control/patient_38\n",
      "//mnt/volume/shared/data_file/artificialdata/experiment_3_seed42/data/control/patient_40\n",
      "//mnt/volume/shared/data_file/artificialdata/experiment_3_seed42/data/control/patient_3\n",
      "//mnt/volume/shared/data_file/artificialdata/experiment_3_seed42/data/control/patient_15\n",
      "//mnt/volume/shared/data_file/artificialdata/experiment_3_seed42/data/control/patient_12\n",
      "//mnt/volume/shared/data_file/artificialdata/experiment_3_seed42/data/control/patient_30\n",
      "//mnt/volume/shared/data_file/artificialdata/experiment_3_seed42/data/control/patient_31\n",
      "//mnt/volume/shared/data_file/artificialdata/experiment_3_seed42/data/control/patient_4\n",
      "//mnt/volume/shared/data_file/artificialdata/experiment_3_seed42/data/control/patient_35\n",
      "//mnt/volume/shared/data_file/artificialdata/experiment_3_seed42/data/control/patient_9\n",
      "//mnt/volume/shared/data_file/artificialdata/experiment_3_seed42/data/control/patient_29\n",
      "//mnt/volume/shared/data_file/artificialdata/experiment_3_seed42/data/control/patient_2\n",
      "//mnt/volume/shared/data_file/artificialdata/experiment_3_seed42/data/control/patient_10\n"
     ]
    }
   ],
   "source": [
    "#PATH_TO_IMAGES = '/mnt/volume/shared/data_file/artificialdata/test_hillary'\n",
    "PATH_TO_IMAGES='//mnt/volume/shared/data_file/artificialdata/experiment_3_seed42/data/control'\n",
    "for folder_patient in os.listdir(PATH_TO_IMAGES):\n",
    "    folder_patient = os.path.join(PATH_TO_IMAGES, folder_patient)\n",
    "    \n",
    "    if os.path.isdir(folder_patient):\n",
    "            print(folder_patient)\n",
    "            path_to_list = folder_patient+\"/image_file_paths\"\n",
    "            #print(path_to_list)\n",
    "            with open(path_to_list, 'rb') as file: \n",
    "               tif_files = pickle.load(file)\n",
    "           # print(tif_files)\n",
    "            array_list = []\n",
    "            for file_path in tif_files:\n",
    "                image_id = extract_number_image(file_path)\n",
    "                #print(image_id)\n",
    "                #rint(file_path)\n",
    "                folder_image_patient = os.path.dirname(file_path)\n",
    "                input_npy_file = folder_image_patient + '/single_cell_probabilities.npy'\n",
    "                pred_vect = np.load(input_npy_file)[image_id]\n",
    "                array_list.append([pred_vect])   \n",
    "            single_cell_probs = np.concatenate(array_list,axis=0)\n",
    "            #print(single_cell_probs.shape)\n",
    "            output_npy_file = folder_patient + '/single_cell_probabilities.npy'\n",
    "            np.save(output_npy_file, single_cell_probs)"
   ]
  },
  {
   "cell_type": "code",
   "execution_count": null,
   "metadata": {},
   "outputs": [],
   "source": []
  }
 ],
 "metadata": {
  "kernelspec": {
   "display_name": "Python 3 (ipykernel)",
   "language": "python",
   "name": "python3"
  },
  "language_info": {
   "codemirror_mode": {
    "name": "ipython",
    "version": 3
   },
   "file_extension": ".py",
   "mimetype": "text/x-python",
   "name": "python",
   "nbconvert_exporter": "python",
   "pygments_lexer": "ipython3",
   "version": "3.10.9"
  }
 },
 "nbformat": 4,
 "nbformat_minor": 4
}
