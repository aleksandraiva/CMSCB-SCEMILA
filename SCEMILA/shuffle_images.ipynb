{
 "cells": [
  {
   "cell_type": "code",
   "execution_count": 1,
   "metadata": {},
   "outputs": [],
   "source": [
    "import numpy as np\n",
    "import glob\n",
    "import os\n",
    "import random\n",
    "import re"
   ]
  },
  {
   "cell_type": "code",
   "execution_count": 98,
   "metadata": {},
   "outputs": [
    {
     "name": "stdout",
     "output_type": "stream",
     "text": [
      "../smalldataset/data/CBFB_MYH11\n"
     ]
    },
    {
     "name": "stdout",
     "output_type": "stream",
     "text": [
      "../smalldataset/data/control\n",
      "../smalldataset/data/NPM1\n",
      "../smalldataset/data/output\n",
      "../smalldataset/data/PML_RARA\n",
      "../smalldataset/data/RUNX1_RUNX1T1\n",
      "Number of all images 11122\n"
     ]
    }
   ],
   "source": [
    "def get_image_path_list(folder_path):\n",
    "    tif_files = glob.glob(f\"{folder_path}/*.tif\")\n",
    "    return tif_files\n",
    "\n",
    "parent_folder = datafile_path+\"/data\"\n",
    "image_path_list = []\n",
    "for folder_class in os.listdir(parent_folder):\n",
    "    folder_class = os.path.join(parent_folder, folder_class)\n",
    "    \n",
    "    if os.path.isdir(folder_class):\n",
    "       print(folder_class)\n",
    "       for folder_patient in os.listdir(folder_class):\n",
    "            folder_patient = os.path.join(folder_class, folder_patient)\n",
    "            if os.path.isdir(folder_patient):\n",
    "                #print(\"Found folder:\", folder_patient)\n",
    "                image_path_list+=get_image_path_list(folder_patient)\n",
    "print(f\"Number of all images {len(image_path_list)}\")                "
   ]
  },
  {
   "cell_type": "code",
   "execution_count": 99,
   "metadata": {},
   "outputs": [],
   "source": [
    "#Maybe change shuffle to images occuring multiple times\n",
    "def shuffle_into_lists(original_list, num_lists, items_per_list):\n",
    "    # Shuffle the original list in-place\n",
    "    random.shuffle(original_list)\n",
    "    \n",
    "    # Calculate the total number of items in the original list\n",
    "    total_items = len(original_list)\n",
    "    \n",
    "    # Check if the specified number of lists and items per list are valid\n",
    "    if num_lists * items_per_list > total_items:\n",
    "        raise ValueError(\"Invalid parameters: Not enough items in the original list.\")\n",
    "    \n",
    "    # Create and return the new lists\n",
    "    result_lists = [original_list[i:i+items_per_list] for i in range(0, num_lists*items_per_list, items_per_list)]\n",
    "    return result_lists\n",
    "\n",
    "\n",
    "def extract_number_image(file_path):\n",
    "\n",
    "    # Use a regular expression to find the number after \"image_\" and before \".tif\"\n",
    "    match = re.search(r'image_(\\d+).tif', file_path)\n",
    "\n",
    "    # Check if a match is found\n",
    "    return int(match.group(1))\n"
   ]
  },
  {
   "cell_type": "code",
   "execution_count": 119,
   "metadata": {},
   "outputs": [],
   "source": [
    "# Shuffle into n patients with m images\n",
    "n_patients=10\n",
    "n_images=10\n",
    "experiment_name = \"experiment_1\"\n",
    "\n",
    "shuffled_patients = shuffle_into_lists(image_path_list, n_patients, n_images)\n",
    "\n",
    "output_folder = datafile_path+'/artificialdata/'+experiment_name\n",
    "\n",
    "# Create the output folder if it doesn't exist\n",
    "if not os.path.exists(output_folder):\n",
    "    os.makedirs(output_folder)\n",
    "\n",
    "# Print the shuffled lists\n",
    "for i, file_paths in enumerate(shuffled_patients):\n",
    "    output_file_path = os.path.join(output_folder,f\"patient{i}\")\n",
    "    if not os.path.exists(output_file_path):\n",
    "        os.makedirs(output_file_path)\n",
    "    #print(f\"Patient {i + 1}: {sublist}\")\n",
    "    with open(output_file_path+\"/images.txt\", 'w') as file:\n",
    "        for path in file_paths:\n",
    "            file.write(path + '\\n')"
   ]
  },
  {
   "cell_type": "code",
   "execution_count": 133,
   "metadata": {},
   "outputs": [
    {
     "name": "stdout",
     "output_type": "stream",
     "text": [
      "Save patient 1 features\n"
     ]
    },
    {
     "name": "stdout",
     "output_type": "stream",
     "text": [
      "Save patient 2 features\n",
      "Save patient 3 features\n",
      "Save patient 4 features\n",
      "Save patient 5 features\n",
      "Save patient 6 features\n",
      "Save patient 7 features\n",
      "Save patient 8 features\n",
      "Save patient 9 features\n",
      "Save patient 10 features\n"
     ]
    }
   ],
   "source": [
    "#features=np.load(folder_path+\"/fnl34_bn_features_layer_7.npy\")\n",
    "\n",
    "for patient, filepath_images_list in enumerate(shuffled_patients):\n",
    "    print(f\"Save patient {patient + 1} features\")\n",
    "    array_list=[]\n",
    "    for filepath in filepath_images_list:\n",
    "        patient_id = filepath[:filepath.find(\"/image\")]\n",
    "        features=np.load(patient_id+\"/fnl34_bn_features_layer_7.npy\")\n",
    "        array_list.append([ features[extract_number_image(filepath)] ])\n",
    "    #Concatenate all features for one artificial patient    \n",
    "    artificial_features = np.concatenate(array_list,axis=0)\n",
    "    output_npy_file = output_folder+f\"/patient{patient}/fnl34_bn_features_layer_7.npy\"\n",
    "    # Save the array to the .npy file\n",
    "    np.save(output_npy_file, artificial_features)\n"
   ]
  },
  {
   "cell_type": "code",
   "execution_count": 113,
   "metadata": {},
   "outputs": [
    {
     "data": {
      "text/plain": [
       "'../smalldataset/data/CBFB_MYH11/BTB'"
      ]
     },
     "execution_count": 113,
     "metadata": {},
     "output_type": "execute_result"
    }
   ],
   "source": [
    "filepath[:file_path.find(\"/image\")+1]"
   ]
  },
  {
   "cell_type": "code",
   "execution_count": 122,
   "metadata": {},
   "outputs": [
    {
     "data": {
      "text/plain": [
       "'../smalldataset/data/NPM1/CVW'"
      ]
     },
     "execution_count": 122,
     "metadata": {},
     "output_type": "execute_result"
    }
   ],
   "source": [
    "patient_id"
   ]
  },
  {
   "cell_type": "code",
   "execution_count": 129,
   "metadata": {},
   "outputs": [
    {
     "data": {
      "text/plain": [
       "(498, 512, 5, 5)"
      ]
     },
     "execution_count": 129,
     "metadata": {},
     "output_type": "execute_result"
    }
   ],
   "source": [
    "features=np.load(patient_id+\"/fnl34_bn_features_layer_7.npy\")\n",
    "features.shape"
   ]
  },
  {
   "cell_type": "code",
   "execution_count": 130,
   "metadata": {},
   "outputs": [
    {
     "data": {
      "text/plain": [
       "array([[[0.        , 0.        , 0.        , 0.        , 0.        ],\n",
       "        [0.5549634 , 0.57803977, 0.        , 0.        , 0.        ],\n",
       "        [2.269149  , 3.1034665 , 2.4635794 , 1.3179547 , 0.44029284],\n",
       "        [3.0276258 , 4.3051457 , 3.796926  , 3.2581992 , 1.5348344 ],\n",
       "        [2.2452042 , 3.5753112 , 3.117856  , 2.4879527 , 0.67109096]],\n",
       "\n",
       "       [[0.42685935, 1.0061829 , 1.6846795 , 1.7922648 , 1.2186955 ],\n",
       "        [0.20663132, 0.48379788, 1.2120707 , 1.3515629 , 0.8719434 ],\n",
       "        [0.        , 0.        , 0.        , 0.        , 0.3532099 ],\n",
       "        [0.        , 0.        , 0.        , 0.        , 0.        ],\n",
       "        [0.        , 0.        , 0.        , 0.        , 0.        ]],\n",
       "\n",
       "       [[1.5100023 , 2.7321944 , 2.8859596 , 2.0972564 , 1.0630814 ],\n",
       "        [2.8251626 , 5.5481787 , 6.4030423 , 3.331038  , 1.302218  ],\n",
       "        [2.2840157 , 5.7273355 , 4.302845  , 2.221932  , 0.8364692 ],\n",
       "        [1.7982035 , 2.7423525 , 2.2313027 , 1.5344238 , 0.5689114 ],\n",
       "        [0.52985483, 1.0460007 , 1.0862491 , 0.81150746, 0.33933082]],\n",
       "\n",
       "       ...,\n",
       "\n",
       "       [[0.        , 0.02495778, 0.22350438, 0.4363159 , 0.45860305],\n",
       "        [0.85743505, 1.7288725 , 2.324406  , 1.9032618 , 1.152184  ],\n",
       "        [1.848063  , 3.3209906 , 4.1504292 , 3.0147223 , 1.3858784 ],\n",
       "        [1.4593788 , 2.672969  , 3.0085306 , 2.1944427 , 1.0986776 ],\n",
       "        [0.38135278, 0.89944255, 1.2483618 , 0.8398647 , 0.346354  ]],\n",
       "\n",
       "       [[0.70184064, 1.1978283 , 1.1651874 , 0.43696636, 0.10197502],\n",
       "        [1.471415  , 2.8716302 , 2.9146078 , 1.2359571 , 0.08330571],\n",
       "        [2.2098284 , 5.130151  , 5.632208  , 3.9703875 , 0.42412657],\n",
       "        [1.658089  , 3.0036037 , 3.5707173 , 2.1191564 , 0.34125513],\n",
       "        [0.641214  , 1.1580316 , 1.272606  , 0.60467106, 0.25497845]],\n",
       "\n",
       "       [[0.45984122, 0.6808461 , 0.        , 0.        , 0.        ],\n",
       "        [1.3702432 , 0.35429654, 0.        , 0.        , 0.        ],\n",
       "        [1.8988383 , 1.0255734 , 0.25009492, 0.        , 0.        ],\n",
       "        [2.0495672 , 1.5525467 , 0.9926888 , 1.0969478 , 0.7819832 ],\n",
       "        [1.4474984 , 2.1147342 , 1.9908689 , 1.7145486 , 0.5016642 ]]],\n",
       "      dtype=float32)"
      ]
     },
     "execution_count": 130,
     "metadata": {},
     "output_type": "execute_result"
    }
   ],
   "source": [
    "features[extract_number_image(filepath)]"
   ]
  },
  {
   "cell_type": "code",
   "execution_count": 131,
   "metadata": {},
   "outputs": [
    {
     "data": {
      "text/plain": [
       "'../smalldataset/data/NPM1/CVW/image_495.tif'"
      ]
     },
     "execution_count": 131,
     "metadata": {},
     "output_type": "execute_result"
    }
   ],
   "source": [
    "filepath"
   ]
  },
  {
   "cell_type": "code",
   "execution_count": 132,
   "metadata": {},
   "outputs": [
    {
     "data": {
      "text/plain": [
       "(498, 512, 5, 5)"
      ]
     },
     "execution_count": 132,
     "metadata": {},
     "output_type": "execute_result"
    }
   ],
   "source": [
    "features=np.load(\"../smalldataset/data/NPM1/CVW/fnl34_bn_features_layer_7.npy\")\n",
    "features.shape"
   ]
  }
 ],
 "metadata": {
  "kernelspec": {
   "display_name": "scemila",
   "language": "python",
   "name": "python3"
  },
  "language_info": {
   "codemirror_mode": {
    "name": "ipython",
    "version": 3
   },
   "file_extension": ".py",
   "mimetype": "text/x-python",
   "name": "python",
   "nbconvert_exporter": "python",
   "pygments_lexer": "ipython3",
   "version": "3.10.13"
  }
 },
 "nbformat": 4,
 "nbformat_minor": 2
}
